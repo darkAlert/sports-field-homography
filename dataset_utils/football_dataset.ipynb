{
 "cells": [
  {
   "cell_type": "code",
   "execution_count": 2,
   "id": "1e5cc14d",
   "metadata": {},
   "outputs": [],
   "source": [
    "import os\n",
    "import json\n",
    "import cv2\n",
    "import numpy as np\n",
    "from matplotlib import pyplot as plt\n",
    "plt.rcParams['figure.figsize'] = [15, 10]\n",
    "\n",
    "import os,sys,inspect\n",
    "currentdir = os.path.dirname(os.path.abspath(inspect.getfile(inspect.currentframe())))\n",
    "parentdir = os.path.dirname(currentdir)\n",
    "sys.path.insert(0,parentdir)\n",
    "\n",
    "from utils.court import load_court_mask, load_court_poi\n",
    "from utils.transform import map_court_to_frame\n",
    "from dataset_utils.preparation import generate_requests, calculate_homography, generate_onehot, \\\n",
    "calculate_reprojection_rmse, find_nonzero_points, rescale_theta, NumpyEncoder, FOOTBALL_PITCH_IGNORE_POINTS"
   ]
  },
  {
   "cell_type": "markdown",
   "id": "00db357c",
   "metadata": {},
   "source": [
    "**Drawing function for debugging**"
   ]
  },
  {
   "cell_type": "code",
   "execution_count": 3,
   "id": "055aa83a",
   "metadata": {},
   "outputs": [],
   "source": [
    "def draw_poi(img, poi):\n",
    "    H, W = img.shape[0:2]\n",
    "    scaled_poi = np.copy(poi)\n",
    "    scaled_poi[:,0] *= W\n",
    "    scaled_poi[:,1] *= H\n",
    "    \n",
    "    for pt in scaled_poi:\n",
    "        x, y = int(round(pt[0])), int(round(pt[1]))\n",
    "        img = cv2.circle(img, (x, y), 5, color=(255, 0, 255), thickness=-1)\n",
    "    \n",
    "    return img\n",
    "\n",
    "\n",
    "def overlay(img1, img2, alpha=0.3):\n",
    "    m = cv2.inRange(img2, (0, 0, 0), (0, 0, 0))\n",
    "    m = cv2.merge([m, m, m])\n",
    "    overlaid = (img1 & m) + img2 * alpha + (img1 & (255 - m)) * (1 - alpha)\n",
    "\n",
    "    return overlaid.astype('uint8')\n",
    "\n",
    "\n",
    "def draw_text(img, text, pos, color=(255, 255, 255), scale=0.75, lineType=1,\n",
    "              font=cv2.FONT_HERSHEY_COMPLEX_SMALL):\n",
    "    cv2.putText(img, text, pos, font, scale, color, lineType)\n",
    "\n",
    "    \n",
    "def debug_draw(img, mask, poi=None, rmse=None):\n",
    "    canvas = overlay(img, mask)\n",
    "    \n",
    "    if poi is not None:\n",
    "        canvas = draw_poi(canvas, poi)\n",
    "        \n",
    "    if rmse is not None:\n",
    "        draw_text(canvas, '{:.5f}'.format(rmse), (20, 20), color=(0,0,255), scale=1)\n",
    "        \n",
    "    return canvas"
   ]
  },
  {
   "cell_type": "markdown",
   "id": "b47191b5",
   "metadata": {},
   "source": [
    "**The following steps are required to create a dataset for training a field homography model:**\n",
    "1. Generate requests (*game, frame id* and *manual PoI\\**) from annotations for further processing \n",
    "2. Calculate homography (*theta*) from manually annotated *PoI* of a field\n",
    "3. Project the field *PoI* to the frame *PoI* using the homography\n",
    "4. Calculate the *Reprojection RMSE*** based on the reprojected and manual PoI\n",
    "5. Create a segmentation mask from a field template and the homography\n",
    "6. Create debug images (optional)\n",
    "7. Save the results: *mask, theta and PoI* (and *debug images*)\n",
    "8. Generate onehote masks from the rgb masks\n",
    "\n",
    "\n",
    "\\* *PoI - Points of Interest*  \n",
    "\\** *RMSE - Root Mean Square Error*"
   ]
  },
  {
   "cell_type": "markdown",
   "id": "0b3de32a",
   "metadata": {},
   "source": [
    "**0. Define paths and constants**"
   ]
  },
  {
   "cell_type": "code",
   "execution_count": 4,
   "id": "4a692cb8",
   "metadata": {},
   "outputs": [],
   "source": [
    "DEBUG_DRAW = True\n",
    "FIELD_POI_PATH = './../assets/template_pitch_points.json'\n",
    "FIELD_MASK_PATH = './../assets/pitch_mask_nc4_hd.png'\n",
    "FIELD_SIZE = (1280, 720)\n",
    "FRAME_SIZE = (1280, 720)\n",
    "NUM_CLASSES = 4\n",
    "\n",
    "# Source dirs:\n",
    "FRAMES_DIR = '/media/darkalert/c02b53af-522d-40c5-b824-80dfb9a11dbb/sota/football/data/frames'\n",
    "ANNO_DIR = '/media/darkalert/c02b53af-522d-40c5-b824-80dfb9a11dbb/sota/football/data/manual_anno'\n",
    "\n",
    "# Destination dirs:\n",
    "MASKS_DIR = '/media/darkalert/c02b53af-522d-40c5-b824-80dfb9a11dbb/sota/football/data/masks_rgb'\n",
    "ONEHOT_DIR = '/media/darkalert/c02b53af-522d-40c5-b824-80dfb9a11dbb/sota/football/data/masks'\n",
    "LABELS_DIR = '/media/darkalert/c02b53af-522d-40c5-b824-80dfb9a11dbb/sota/football/data/anno'\n",
    "DEBUG_DIR = '/media/darkalert/c02b53af-522d-40c5-b824-80dfb9a11dbb/sota/football/data/debug'"
   ]
  },
  {
   "cell_type": "markdown",
   "id": "e637299f",
   "metadata": {},
   "source": [
    "**1. Generate requests (*game name, frame ID* and *PoI*) for all games in the directory**"
   ]
  },
  {
   "cell_type": "code",
   "execution_count": 5,
   "id": "d0560e0f",
   "metadata": {},
   "outputs": [],
   "source": [
    "requests = generate_requests(ANNO_DIR)"
   ]
  },
  {
   "cell_type": "markdown",
   "id": "c1425069",
   "metadata": {},
   "source": [
    "**2-4. Calculate homography, project the field PoI, and calculate RMSE**"
   ]
  },
  {
   "cell_type": "code",
   "execution_count": 6,
   "id": "583097a5",
   "metadata": {
    "scrolled": false
   },
   "outputs": [
    {
     "name": "stdout",
     "output_type": "stream",
     "text": [
      "Calculating homography for VTB_mol_Ufa_at_Dinamo...\n",
      "Calculating homography for VTB_mol_Ural_at_Dinamo...\n",
      "Calculating homography for VTB_mol_Sochi_at_Dinamo...\n",
      "Calculating homography for Football_Forte_at_Dinamo...\n",
      "Calculating homography for VTB_mol_Rostov_at_Dinamo...\n"
     ]
    }
   ],
   "source": [
    "field_poi = load_court_poi(FIELD_POI_PATH, normalize=False)\n",
    "field_poi = np.expand_dims(field_poi, 0)\n",
    "\n",
    "for game, frames in requests.items():\n",
    "    print ('Calculating homography for {}...'.format(game))\n",
    "    \n",
    "    for frame_id, values in frames.items():\n",
    "        manual_poi = values['manual_poi']\n",
    "        theta = calculate_homography(field_poi[0], manual_poi)\n",
    "        \n",
    "        if theta is not None:\n",
    "            poi = cv2.perspectiveTransform(field_poi, theta)[0]\n",
    "            nonzero = find_nonzero_points(manual_poi, FOOTBALL_PITCH_IGNORE_POINTS)\n",
    "            rmse = calculate_reprojection_rmse(manual_poi, poi, nonzero, FIELD_SIZE)\n",
    "            values['poi'] = poi\n",
    "            values['rmse'] = rmse\n",
    "            values['theta'] = theta"
   ]
  },
  {
   "cell_type": "markdown",
   "id": "daf94b21",
   "metadata": {},
   "source": [
    "**5-7. Create segmentation masks, debug images, and save them**"
   ]
  },
  {
   "cell_type": "code",
   "execution_count": 7,
   "id": "eebffe8c",
   "metadata": {
    "scrolled": false
   },
   "outputs": [
    {
     "name": "stdout",
     "output_type": "stream",
     "text": [
      "Creating masks for VTB_mol_Ufa_at_Dinamo...\n",
      "Skipping VTB_mol_Ufa_at_Dinamo/img-00013\n",
      "Creating masks for VTB_mol_Ural_at_Dinamo...\n",
      "Skipping VTB_mol_Ural_at_Dinamo/img-00018\n",
      "Skipping VTB_mol_Ural_at_Dinamo/img-00065\n",
      "Skipping VTB_mol_Ural_at_Dinamo/img-00079\n",
      "Skipping VTB_mol_Ural_at_Dinamo/img-00084\n",
      "Creating masks for VTB_mol_Sochi_at_Dinamo...\n",
      "Skipping VTB_mol_Sochi_at_Dinamo/img-00088\n",
      "Creating masks for Football_Forte_at_Dinamo...\n",
      "Skipping Football_Forte_at_Dinamo/img-00045\n",
      "Skipping Football_Forte_at_Dinamo/img-00049\n",
      "Skipping Football_Forte_at_Dinamo/img-00050\n",
      "Skipping Football_Forte_at_Dinamo/img-00052\n",
      "Skipping Football_Forte_at_Dinamo/img-00065\n",
      "Creating masks for VTB_mol_Rostov_at_Dinamo...\n",
      "Skipping VTB_mol_Rostov_at_Dinamo/img-00004\n",
      "Skipping VTB_mol_Rostov_at_Dinamo/img-00006\n",
      "Skipping VTB_mol_Rostov_at_Dinamo/img-00008\n",
      "Skipping VTB_mol_Rostov_at_Dinamo/img-00022\n",
      "Skipping VTB_mol_Rostov_at_Dinamo/img-00068\n",
      "Skipping VTB_mol_Rostov_at_Dinamo/img-00071\n",
      "Skipping VTB_mol_Rostov_at_Dinamo/img-00073\n",
      "All done! Total masks: 268\n"
     ]
    }
   ],
   "source": [
    "FIELD_MASK = load_court_mask(FIELD_MASK_PATH, FIELD_SIZE, inter=cv2.INTER_NEAREST)\n",
    "counter = 0\n",
    "\n",
    "for game, frames in requests.items():\n",
    "    print ('Creating masks for {}...'.format(game))\n",
    "    game_masks_dir = os.path.join(MASKS_DIR, game)\n",
    "    game_labels_dir = os.path.join(LABELS_DIR, game)\n",
    "    game_debug_dir = os.path.join(DEBUG_DIR, game)\n",
    "    \n",
    "    if not os.path.exists(game_masks_dir):\n",
    "        os.makedirs(game_masks_dir)\n",
    "    if not os.path.exists(game_labels_dir):\n",
    "        os.makedirs(game_labels_dir)\n",
    "    if DEBUG_DRAW and not os.path.exists(game_debug_dir):\n",
    "        os.makedirs(game_debug_dir)\n",
    "    \n",
    "    for frame_id, values in frames.items():\n",
    "        theta = values['theta']\n",
    "        poi = values['poi']\n",
    "        rmse = values['rmse']\n",
    "        \n",
    "        if theta is None:\n",
    "            print ('Skipping {}/{}'.format(game, frame_id))\n",
    "            continue\n",
    "            \n",
    "        # Rescale theta (homography) to the image size:\n",
    "        scaled_theta = rescale_theta(FIELD_SIZE, FRAME_SIZE, theta)\n",
    "\n",
    "        # Project the field image (template) to the frame coordinates:\n",
    "        mask = cv2.warpPerspective(FIELD_MASK, scaled_theta, FIELD_SIZE, flags=cv2.INTER_NEAREST)\n",
    "        \n",
    "        # Debug drawing:\n",
    "        debug_img = None\n",
    "        if DEBUG_DRAW:\n",
    "            img_path = os.path.join(FRAMES_DIR, game, frame_id + '.jpeg')\n",
    "            img = cv2.imread(img_path, 1)\n",
    "            debug_img = debug_draw(img, mask, poi, rmse)\n",
    "        \n",
    "        # Save the anno:\n",
    "        anno_path = os.path.join(game_labels_dir, frame_id + '.json')\n",
    "        label = {\n",
    "            'homo': theta,\n",
    "            'poi': poi,\n",
    "            'rmse': rmse\n",
    "        }\n",
    "        with open(anno_path, 'w') as f:\n",
    "            json.dump(label, f, cls=NumpyEncoder, indent=2)\n",
    "            \n",
    "        # Save the mask:\n",
    "        mask_path = os.path.join(game_masks_dir, frame_id + '.png')\n",
    "        cv2.imwrite(mask_path, mask)\n",
    "        \n",
    "        # Save the debug image:\n",
    "        if debug_img is not None:\n",
    "            debug_path = os.path.join(game_debug_dir, frame_id + '.jpeg')\n",
    "            cv2.imwrite(debug_path, debug_img, [cv2.IMWRITE_JPEG_QUALITY, 90])\n",
    "            \n",
    "        counter += 1\n",
    "            \n",
    "print ('All done! Total masks:', counter)"
   ]
  },
  {
   "cell_type": "markdown",
   "id": "e8c44a11",
   "metadata": {},
   "source": [
    "**8. Generate onehote masks from the rgb masks**"
   ]
  },
  {
   "cell_type": "code",
   "execution_count": 18,
   "id": "f782685e",
   "metadata": {},
   "outputs": [
    {
     "name": "stdout",
     "output_type": "stream",
     "text": [
      "Done! Processed masks: 268\n"
     ]
    }
   ],
   "source": [
    "!rm -rf $ONEHOT_DIR\n",
    "!cp -rf $MASKS_DIR $ONEHOT_DIR\n",
    "generate_onehot(ONEHOT_DIR, NUM_CLASSES)"
   ]
  },
  {
   "cell_type": "code",
   "execution_count": null,
   "id": "49cb73ad",
   "metadata": {},
   "outputs": [],
   "source": []
  }
 ],
 "metadata": {
  "kernelspec": {
   "display_name": "Python 3.8",
   "language": "python",
   "name": "python3"
  },
  "language_info": {
   "codemirror_mode": {
    "name": "ipython",
    "version": 3
   },
   "file_extension": ".py",
   "mimetype": "text/x-python",
   "name": "python",
   "nbconvert_exporter": "python",
   "pygments_lexer": "ipython3",
   "version": "3.8.10"
  }
 },
 "nbformat": 4,
 "nbformat_minor": 5
}
